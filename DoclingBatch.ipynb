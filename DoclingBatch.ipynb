{
  "nbformat": 4,
  "nbformat_minor": 0,
  "metadata": {
    "colab": {
      "provenance": [],
      "authorship_tag": "ABX9TyPUDm1M3WRy1Q2HZGpSu+cC",
      "include_colab_link": true
    },
    "kernelspec": {
      "name": "python3",
      "display_name": "Python 3"
    },
    "language_info": {
      "name": "python"
    }
  },
  "cells": [
    {
      "cell_type": "markdown",
      "metadata": {
        "id": "view-in-github",
        "colab_type": "text"
      },
      "source": [
        "<a href=\"https://colab.research.google.com/github/jpsangare/DoclingBatch/blob/main/DoclingBatch.ipynb\" target=\"_parent\"><img src=\"https://colab.research.google.com/assets/colab-badge.svg\" alt=\"Open In Colab\"/></a>"
      ]
    },
    {
      "cell_type": "code",
      "source": [
        "# First cell - Install required packages\n",
        "%%capture\n",
        "!apt-get update\n",
        "!apt-get install -y poppler-utils\n",
        "!pip install docling\n",
        "!pip install --upgrade google-colab # Update google-colab"
      ],
      "metadata": {
        "id": "EqyTDulib3Lw"
      },
      "execution_count": 2,
      "outputs": []
    },
    {
      "cell_type": "code",
      "source": [
        "# Second cell - Import packages and define processing functions\n",
        "import json\n",
        "import logging\n",
        "import time\n",
        "from pathlib import Path\n",
        "from typing import List\n",
        "import os\n",
        "from google.colab import files\n",
        "from docling.datamodel.base_models import InputFormat\n",
        "from docling.datamodel.pipeline_options import PdfPipelineOptions\n",
        "from docling.document_converter import DocumentConverter, PdfFormatOption\n",
        "\n",
        "def setup_directories():\n",
        "    \"\"\"Create necessary directories for processing.\"\"\"\n",
        "    os.makedirs(\"tests/data\", exist_ok=True)\n",
        "    os.makedirs(\"scratch\", exist_ok=True)\n",
        "\n",
        "def upload_and_move_files() -> List[Path]:\n",
        "    \"\"\"Upload PDF files and move them to the data directory.\"\"\"\n",
        "    print(\"Please select one or more PDF files to upload...\")\n",
        "    uploaded = files.upload()  # This will prompt for file upload\n",
        "    input_files = []\n",
        "\n",
        "    for filename in uploaded.keys():\n",
        "        dest_path = Path(\"tests/data\") / filename\n",
        "        os.rename(filename, dest_path)\n",
        "        input_files.append(dest_path)\n",
        "\n",
        "    return input_files\n",
        "\n",
        "def process_pdf(input_path: Path, doc_converter: DocumentConverter) -> float:\n",
        "    \"\"\"Process a single PDF file and save outputs.\"\"\"\n",
        "    _log = logging.getLogger(__name__)\n",
        "\n",
        "    start_time = time.time()\n",
        "    conv_result = doc_converter.convert(input_path)\n",
        "    end_time = time.time() - start_time\n",
        "\n",
        "    _log.info(f\"Document {input_path.name} converted in {end_time:.2f} seconds.\")\n",
        "\n",
        "    # Export results\n",
        "    output_dir = Path(\"scratch\")\n",
        "    doc_filename = conv_result.input.file.stem\n",
        "\n",
        "    # Export in different formats\n",
        "    output_formats = {\n",
        "        \"json\": lambda: conv_result.document.export_to_dict(),\n",
        "        \"txt\": lambda: conv_result.document.export_to_text(),\n",
        "        \"md\": lambda: conv_result.document.export_to_markdown(),\n",
        "        \"doctags\": lambda: conv_result.document.export_to_document_tokens()\n",
        "    }\n",
        "\n",
        "    for ext, export_func in output_formats.items():\n",
        "        output_path = output_dir / f\"{doc_filename}.{ext}\"\n",
        "        content = export_func()\n",
        "\n",
        "        with output_path.open(\"w\", encoding=\"utf-8\") as fp:\n",
        "            if ext == \"json\":\n",
        "                json.dump(content, fp, ensure_ascii=False, indent=2)\n",
        "            else:\n",
        "                fp.write(content)\n",
        "\n",
        "    return end_time\n",
        "\n",
        "def display_results(input_files: List[Path]):\n",
        "    \"\"\"Display and download processing results.\"\"\"\n",
        "    print(\"\\nProcessed files in scratch directory:\")\n",
        "    os.system(\"ls -l scratch/\")\n",
        "\n",
        "    # Display content of text and markdown files\n",
        "    for input_file in input_files:\n",
        "        filename = input_file.stem\n",
        "        print(f\"\\nResults for {filename}:\")\n",
        "\n",
        "        for ext in [\"txt\", \"md\"]:\n",
        "            output_path = Path(\"scratch\") / f\"{filename}.{ext}\"\n",
        "            if output_path.exists():\n",
        "                print(f\"\\n{ext.upper()} output:\")\n",
        "                with open(output_path, 'r') as f:\n",
        "                    print(f.read())\n",
        "\n",
        "    # Create and download zip of results\n",
        "    !zip -r output_files.zip scratch/\n",
        "    files.download('output_files.zip')"
      ],
      "metadata": {
        "id": "veo13Tf7cAGo"
      },
      "execution_count": 3,
      "outputs": []
    },
    {
      "cell_type": "code",
      "source": [
        "# Third cell - Main execution\n",
        "def main():\n",
        "    logging.basicConfig(level=logging.INFO)\n",
        "    _log = logging.getLogger(__name__)\n",
        "\n",
        "    # Setup\n",
        "    setup_directories()\n",
        "    input_files = upload_and_move_files()\n",
        "\n",
        "    if not input_files:\n",
        "        _log.error(\"No files were uploaded\")\n",
        "        return\n",
        "\n",
        "    # Configure document converter\n",
        "    pipeline_options = PdfPipelineOptions()\n",
        "    pipeline_options.do_ocr = False\n",
        "    pipeline_options.do_table_structure = True\n",
        "    pipeline_options.table_structure_options.do_cell_matching = True\n",
        "\n",
        "    doc_converter = DocumentConverter(\n",
        "        format_options={\n",
        "            InputFormat.PDF: PdfFormatOption(pipeline_options=pipeline_options)\n",
        "        }\n",
        "    )\n",
        "\n",
        "    # Process each file\n",
        "    total_time = 0\n",
        "    for input_file in input_files:\n",
        "        _log.info(f\"Processing {input_file.name}\")\n",
        "        total_time += process_pdf(input_file, doc_converter)\n",
        "\n",
        "    _log.info(f\"All documents processed in {total_time:.2f} seconds.\")\n",
        "\n",
        "    # Display and download results\n",
        "    display_results(input_files)\n",
        "\n",
        "if __name__ == \"__main__\":\n",
        "    main()"
      ],
      "metadata": {
        "id": "j0tszWJIcJmg"
      },
      "execution_count": null,
      "outputs": []
    }
  ]
}